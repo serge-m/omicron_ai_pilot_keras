{
 "cells": [
  {
   "cell_type": "markdown",
   "metadata": {},
   "source": [
    "# extract_from_rosbag_multiple\n",
    "exctracts images and steering signal from multiple rosbags located in `bags` directory (recursively).\n",
    "Stores the data in `data/`"
   ]
  },
  {
   "cell_type": "code",
   "execution_count": 6,
   "metadata": {},
   "outputs": [],
   "source": [
    "import extract_from_rosbag\n",
    "try: \n",
    "    from pathlib import Path\n",
    "except ImportError:\n",
    "    from pathlib2 import Path"
   ]
  },
  {
   "cell_type": "code",
   "execution_count": 7,
   "metadata": {},
   "outputs": [],
   "source": [
    "path_bags = Path(\"./bags/\")\n",
    "dst_dir = Path(\"data/\")"
   ]
  },
  {
   "cell_type": "code",
   "execution_count": 8,
   "metadata": {},
   "outputs": [],
   "source": [
    "for bag in path_bags.glob(\"**/*.bag\"):\n",
    "    extract_from_rosbag.main(\n",
    "        in_rosbag=str(bag), \n",
    "        out_csv=str(dst_dir.joinpath(bag.stem + \".csv\")), \n",
    "        out_dir=str(dst_dir.joinpath(bag.stem)), \n",
    "        overwrite=True\n",
    "    )"
   ]
  },
  {
   "cell_type": "code",
   "execution_count": null,
   "metadata": {},
   "outputs": [],
   "source": []
  }
 ],
 "metadata": {
  "kernelspec": {
   "display_name": "Python 2",
   "language": "python",
   "name": "python2"
  },
  "language_info": {
   "codemirror_mode": {
    "name": "ipython",
    "version": 2
   },
   "file_extension": ".py",
   "mimetype": "text/x-python",
   "name": "python",
   "nbconvert_exporter": "python",
   "pygments_lexer": "ipython2",
   "version": "2.7.15+"
  }
 },
 "nbformat": 4,
 "nbformat_minor": 2
}
