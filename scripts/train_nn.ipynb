{
 "cells": [
  {
   "cell_type": "code",
   "execution_count": null,
   "metadata": {},
   "outputs": [],
   "source": [
    "import logging\n",
    "from math import floor\n",
    "\n",
    "from tensorflow.python.keras.layers import Input\n",
    "from tensorflow.python.keras.models import Model, load_model\n",
    "from tensorflow.python.keras.layers import Convolution2D\n",
    "from tensorflow.python.keras.layers import Dropout, Flatten, Dense\n",
    "from tensorflow.python.keras.callbacks import ModelCheckpoint, EarlyStopping, TensorBoard\n",
    "from keras_preprocessing.image import ImageDataGenerator\n",
    "\n",
    "import matplotlib.pyplot as plt\n",
    "import datetime\n",
    "\n",
    "try:\n",
    "    from pathlib import Path\n",
    "except ImportError:\n",
    "    from pathlib2 import Path\n",
    "\n",
    "import pandas as pd\n",
    "import os\n",
    "import numpy as np\n",
    "\n",
    "logger = logging.getLogger(__name__)\n",
    "\n",
    "%matplotlib qt"
   ]
  },
  {
   "cell_type": "code",
   "execution_count": null,
   "metadata": {},
   "outputs": [],
   "source": [
    "\n",
    "IMAGE_INPUT_WIDTH=160\n",
    "IMAGE_INPUT_HEIGHT=120\n",
    "# This discards number of pixels from the top after scaling\n",
    "TOP_MARGIN_IN_PIXELS=8\n",
    "\n",
    "\n",
    "col_img = 'image'\n",
    "col_steering = 'msg.steering'\n",
    "col_throttle = 'msg.throttle'\n",
    "col_image_ts = 'image_timestamp'\n",
    "col_steernig_ts = 'steering_timestamp'\n",
    "col_steering_scaled = 'steering_scaled'\n",
    "col_throttle_scaled = 'throttle_scaled'\n",
    "col_validation = 'validation'\n",
    "\n",
    "base_dir = Path(\"./data/\")\n",
    "def read_csv(path):\n",
    "    df = pd.read_csv(path)\n",
    "    for col in [col_img, col_steering, col_throttle, col_image_ts, col_steernig_ts]:\n",
    "        assert col in df.columns, f'missing {col} in {path}'\n",
    "    return df"
   ]
  },
  {
   "cell_type": "markdown",
   "metadata": {},
   "source": [
    "# Read files and concatenate them"
   ]
  },
  {
   "cell_type": "code",
   "execution_count": null,
   "metadata": {},
   "outputs": [],
   "source": [
    "def load_and_merge_csvs(paths_csv):\n",
    "    print('Loading {} csvs:\\n{}'.format(len(paths_csv), '\\n'.join(str(p) for p in paths_csv)))\n",
    "    csvs = [read_csv(str(path)) for path in paths_csv]\n",
    "    df = pd.concat(csvs, axis=0, ignore_index=True)\n",
    "    print(f'loaded {df.shape}')\n",
    "    return df\n",
    "\n",
    "db_names =  [\n",
    "        \"sergem_robocar_20191009_v2\",\n",
    "        \"sergem_robocar_20191106\",\n",
    "        \"sergem_robocar_20191126_entrance\",\n",
    "        \"sergem_robocar_20191127\",\n",
    "        \"sergem_robocar_20191202\",\n",
    "    ]\n",
    "dfs = {\n",
    "    db_name: load_and_merge_csvs(sorted(base_dir.glob(f\"{db_name}/*.csv\")))\n",
    "    for db_name in db_names\n",
    "}\n",
    "# df1 = load_and_merge_csvs(sorted(base_dir.glob(\"sergem_robocar_20191003_v2/*.csv\")))\n",
    "# df2 = load_and_merge_csvs(sorted(base_dir.glob(\"*201911*/*.csv\")))"
   ]
  },
  {
   "cell_type": "code",
   "execution_count": null,
   "metadata": {},
   "outputs": [],
   "source": [
    "dfs[db_names[0]].head()"
   ]
  },
  {
   "cell_type": "code",
   "execution_count": null,
   "metadata": {},
   "outputs": [],
   "source": [
    "dfs[db_names[2]].head()"
   ]
  },
  {
   "cell_type": "markdown",
   "metadata": {},
   "source": [
    "# defining scaling\n",
    "radio pwm has a certain range and the data is recorded as is. Now it's time to preprocess it to make it generic"
   ]
  },
  {
   "cell_type": "code",
   "execution_count": null,
   "metadata": {},
   "outputs": [],
   "source": [
    "import plotly.graph_objects as go\n",
    "import plotly.io as pio\n",
    "pio.renderers.default = \"browser\"\n",
    "\n",
    "\n",
    "\n",
    "def plot_ranges(column, val_min=None, val_zero=None, val_max=None, update_layout_kwargs={}):\n",
    "    graphs =[\n",
    "        go.Scatter(x=column.index, y=column, mode='lines'),\n",
    "    ]\n",
    "    if val_min is not None:\n",
    "        graphs.append(go.Scatter(x=column.index, y=val_min, mode='lines', name='min'))\n",
    "    if val_zero is not None:\n",
    "        graphs.append(go.Scatter(x=column.index, y=val_zero, mode='lines', name='zero',\n",
    "                  line=dict(width=4,dash='dash')),\n",
    "        )\n",
    "    if val_max is not None:\n",
    "        graphs.append(go.Scatter(x=column.index, y=val_max, mode='lines', name='max'),)\n",
    "    fig = go.Figure()\n",
    "    fig.add_traces(graphs)\n",
    "    fig.update_layout(**update_layout_kwargs)\n",
    "    fig.show()"
   ]
  },
  {
   "cell_type": "code",
   "execution_count": null,
   "metadata": {},
   "outputs": [],
   "source": [
    "def zeros_series_like(series):\n",
    "    return series * 0"
   ]
  },
  {
   "cell_type": "code",
   "execution_count": null,
   "metadata": {},
   "outputs": [],
   "source": [
    "# where we dont drive\n",
    "def find_zeros(\n",
    "    df,\n",
    "    approx_zero_throttle = 1500,\n",
    "    approx_zero_steering = 1400,\n",
    "    th_zero_throttle = 150,\n",
    "    th_zero_steering = 80,\n",
    "    show=False,\n",
    "):\n",
    "\n",
    "    df = df.copy()\n",
    "\n",
    "    is_idle = ( \n",
    "        (df[col_steering].rolling(30, center=True, min_periods=1).std() < 5)\n",
    "        & (df[col_throttle].rolling(30, center=True, min_periods=1).std() < 5)\n",
    "        & ((df[col_steering].rolling(5, center=True, min_periods=1).mean() - approx_zero_steering).abs() < th_zero_steering)\n",
    "        & ((df[col_throttle].rolling(5, center=True, min_periods=1).mean() - approx_zero_throttle).abs() < th_zero_throttle)\n",
    "    )\n",
    "    df['idle'] = is_idle\n",
    "    df['steering_zero'] = df[col_steering].where(is_idle > 0).interpolate(method='nearest', axis=0).ffill().bfill()\n",
    "    df['throttle_zero'] = df[col_throttle].where(is_idle > 0).interpolate(method='nearest', axis=0).ffill().bfill()\n",
    "    if show:\n",
    "        plot_ranges(\n",
    "            df[col_steering],\n",
    "            None,\n",
    "            df['steering_zero'],\n",
    "        )\n",
    "    \n",
    "        plot_ranges(\n",
    "            df[col_throttle],\n",
    "            None,\n",
    "            df['throttle_zero'],\n",
    "        )\n",
    "    return df\n"
   ]
  },
  {
   "cell_type": "code",
   "execution_count": null,
   "metadata": {},
   "outputs": [],
   "source": [
    "df = dfs['sergem_robocar_20191127'].copy()\n",
    "df = dfs['sergem_robocar_20191009_v2'].copy()\n",
    "df = dfs['sergem_robocar_20191106'].copy()\n",
    "df = dfs['sergem_robocar_20191126_entrance'].copy()\n",
    "df = dfs['sergem_robocar_20191202'].copy()\n",
    "\n",
    "find_zeros(df, show=True)\n"
   ]
  },
  {
   "cell_type": "code",
   "execution_count": null,
   "metadata": {},
   "outputs": [],
   "source": [
    "for name in db_names:\n",
    "    dfs[name] = find_zeros(dfs[name], show=False)\n"
   ]
  },
  {
   "cell_type": "code",
   "execution_count": null,
   "metadata": {},
   "outputs": [],
   "source": [
    "def min_max_throttle(\n",
    "    df,\n",
    "    name='',\n",
    "    show=False\n",
    "):\n",
    "    df = df.copy()\n",
    "    throttle_max = (\n",
    "        df[col_throttle]\n",
    "        .where(df['idle'] == 0)\n",
    "        .where(df[col_throttle] > df['throttle_zero'] + 200)\n",
    "        .rolling(100, center=True, min_periods=100).quantile(0.80)\n",
    "        .interpolate(method='nearest', axis=0).ffill().bfill()\n",
    "        .fillna(df['throttle_zero'] + 500)\n",
    "    )\n",
    "    throttle_min = (\n",
    "        df[col_throttle]\n",
    "        .where(df['idle'] == 0)\n",
    "        .where(df[col_throttle] < df['throttle_zero'] - 50)\n",
    "        .rolling(500, center=True, min_periods=10).min()\n",
    "    )\n",
    "\n",
    "    throttle_min = throttle_min.where(throttle_min < df['throttle_zero'] - 200, df['throttle_zero'] - 500)\n",
    "    df['throttle_min'] = throttle_min\n",
    "    df['throttle_max'] = throttle_max\n",
    "    if show:\n",
    "        plot_ranges(\n",
    "                    df[col_throttle], \n",
    "                    df['throttle_min'],\n",
    "                    df['throttle_zero'],\n",
    "                    df['throttle_max'],\n",
    "                    update_layout_kwargs = {'title': 'throttle' + name}\n",
    "                )\n",
    "    return df"
   ]
  },
  {
   "cell_type": "code",
   "execution_count": null,
   "metadata": {},
   "outputs": [],
   "source": [
    "# df = dfs['sergem_robocar_20191127'].copy()\n",
    "# df = dfs['sergem_robocar_20191009_v2'].copy()\n",
    "# df = dfs['sergem_robocar_20191106'].copy()\n",
    "# # df = dfs['sergem_robocar_20191126_entrance'].copy()\n",
    "\n",
    "# _ = min_max_throttle(\n",
    "#     df, \n",
    "#     show=True)"
   ]
  },
  {
   "cell_type": "code",
   "execution_count": null,
   "metadata": {},
   "outputs": [],
   "source": [
    "def min_max_steering(\n",
    "    df,\n",
    "    name='',\n",
    "    show=False\n",
    "):\n",
    "    df = df.copy()\n",
    "    df['steering_min'] = (\n",
    "        df[col_steering]\n",
    "        .rolling(1000, center=True, min_periods=100).quantile(0.001)\n",
    "        .where(df['idle'] == 0)\n",
    "        .interpolate(method='nearest', axis=0).ffill().bfill()\n",
    "        .fillna(df['steering_zero'] - 250)\n",
    "    )\n",
    "    df['steering_max'] = (\n",
    "        df[col_steering]\n",
    "        \n",
    "        .rolling(1000, center=True, min_periods=100).quantile(0.999)\n",
    "        .where(df['idle'] == 0)\n",
    "        .interpolate(method='nearest', axis=0).ffill().bfill()\n",
    "        .fillna(df['steering_zero'] + 250)\n",
    "    )\n",
    "\n",
    "    if show:\n",
    "        plot_ranges(\n",
    "                    df[col_steering], \n",
    "                    df['steering_min'],\n",
    "                    df['steering_zero'],\n",
    "                    df['steering_max'],\n",
    "                    update_layout_kwargs = {'title': 'steering ' + name}\n",
    "                )\n",
    "    return df"
   ]
  },
  {
   "cell_type": "code",
   "execution_count": null,
   "metadata": {},
   "outputs": [],
   "source": [
    "# df = dfs['sergem_robocar_20191127'].copy()\n",
    "# df = dfs['sergem_robocar_20191009_v2'].copy()\n",
    "# df = dfs['sergem_robocar_20191106'].copy()\n",
    "# df = dfs['sergem_robocar_20191126_entrance'].copy()\n",
    "\n",
    "# _ = min_max_steering(\n",
    "#     df, \n",
    "#     show=True)"
   ]
  },
  {
   "cell_type": "code",
   "execution_count": null,
   "metadata": {},
   "outputs": [],
   "source": [
    "for name in db_names:\n",
    "    dfs[name] = min_max_steering(min_max_throttle(dfs[name]))\n",
    "    "
   ]
  },
  {
   "cell_type": "code",
   "execution_count": null,
   "metadata": {},
   "outputs": [],
   "source": [
    "def scale_minus1_plus1(x, xmin, xzero, xmax, do_clip):\n",
    "    positive = x > xzero\n",
    "    scale_positive = (x - xzero) / (xmax - xzero)\n",
    "    scale_negative = (x - xzero) / (xzero - xmin)\n",
    "    result = scale_positive.where(positive, scale_negative)\n",
    "    if do_clip:\n",
    "        result = result.clip(-1.,1.)\n",
    "    \n",
    "    return result\n",
    "\n",
    "def scale_minus1_plus1_df(df):\n",
    "    df = df.copy()\n",
    "    df[col_steering_scaled] = scale_minus1_plus1(\n",
    "        x = df[col_steering],\n",
    "        xzero = df['steering_zero'],\n",
    "        xmin = df['steering_min'],\n",
    "        xmax = df['steering_max'],\n",
    "        do_clip=True\n",
    "    )\n",
    "    df[col_throttle_scaled] = scale_minus1_plus1(\n",
    "        x = df[col_throttle],\n",
    "        xzero = df['throttle_zero'],\n",
    "        xmin = df['throttle_min'],\n",
    "        xmax = df['throttle_max'],\n",
    "        do_clip=True\n",
    "    )\n",
    "    return df"
   ]
  },
  {
   "cell_type": "code",
   "execution_count": null,
   "metadata": {},
   "outputs": [],
   "source": [
    "# df = dfs['sergem_robocar_20191127'].copy()\n",
    "# # df = dfs['sergem_robocar_20191009_v2'].copy()\n",
    "# # df = dfs['sergem_robocar_20191106'].copy()\n",
    "# # df = dfs['sergem_robocar_20191126_entrance'].copy()\n",
    "\n",
    "\n",
    "# plot_ranges(\n",
    "#     scale_minus1_plus1(\n",
    "#         x = df[col_steering],\n",
    "#         xzero = df['steering_zero'],\n",
    "#         xmin = df['steering_min'],\n",
    "#         xmax = df['steering_max'],\n",
    "#         do_clip=True\n",
    "#     )\n",
    "# )"
   ]
  },
  {
   "cell_type": "code",
   "execution_count": null,
   "metadata": {},
   "outputs": [],
   "source": [
    "# plot_ranges(\n",
    "#     scale_minus1_plus1(\n",
    "#         x = df[col_throttle],\n",
    "#         xzero = df['throttle_zero'],\n",
    "#         xmin = df['throttle_min'],\n",
    "#         xmax = df['throttle_max'],\n",
    "#         do_clip=True\n",
    "#     )\n",
    "# )"
   ]
  },
  {
   "cell_type": "code",
   "execution_count": null,
   "metadata": {},
   "outputs": [],
   "source": [
    "for name in db_names:\n",
    "    dfs[name] = scale_minus1_plus1_df(dfs[name])\n",
    "    "
   ]
  },
  {
   "cell_type": "code",
   "execution_count": null,
   "metadata": {},
   "outputs": [],
   "source": [
    "\n",
    "    "
   ]
  },
  {
   "cell_type": "code",
   "execution_count": null,
   "metadata": {
    "scrolled": false
   },
   "outputs": [],
   "source": [
    "for name in db_names:\n",
    "    df = dfs[name]\n",
    "    plot_ranges(df[col_steering], df['steering_min'], df['steering_zero'], df['steering_max'], \n",
    "                update_layout_kwargs = {'title': 'steering orig ' + name})\n",
    "    plot_ranges(df[col_steering_scaled],\n",
    "                update_layout_kwargs = {'title': 'steering scaled ' + name})\n",
    "    plot_ranges(df[col_throttle], df['throttle_min'], df['throttle_zero'], df['throttle_max'], \n",
    "                update_layout_kwargs = {'title': 'throttle orig ' + name})\n",
    "    plot_ranges(df[col_throttle_scaled],\n",
    "                update_layout_kwargs = {'title': 'throttle scaled ' + name})"
   ]
  },
  {
   "cell_type": "markdown",
   "metadata": {},
   "source": [
    "#### Discard if \n",
    "\n",
    "1) if there is a reverse in the future 3 sec\n",
    "\n",
    "2) no throttle and no steering\n"
   ]
  },
  {
   "cell_type": "code",
   "execution_count": null,
   "metadata": {},
   "outputs": [],
   "source": [
    "def find_moments_before_reverse(\n",
    "    df,\n",
    "    col_target = 'reverse_in_the_future',\n",
    "    threshold_ns = 3 * 1e9,\n",
    "    th_reverse = -0.03,\n",
    "):\n",
    "    df = df.copy()\n",
    "    df[col_target] = 0\n",
    "\n",
    "    i_nearest_reverse = len(df) - 1\n",
    "    ts_nearest_reverse = 1.0e30 # big value in the future\n",
    "    res = []\n",
    "    \n",
    "    for i_cur in range(len(df) - 1, -1, -1):\n",
    "        if df.iloc[i_cur][col_throttle_scaled] < th_reverse: \n",
    "            i_nearest_reverse = i_cur\n",
    "            ts_nearest_reverse = df.iloc[i_nearest_reverse][col_image_ts]\n",
    "\n",
    "        if ts_nearest_reverse - df.iloc[i_cur][col_image_ts] < threshold_ns:\n",
    "            res.append(1)\n",
    "        else:\n",
    "            res.append(0)\n",
    "            \n",
    "    df[col_target] = res[::-1]\n",
    "    return df[col_target]\n"
   ]
  },
  {
   "cell_type": "code",
   "execution_count": null,
   "metadata": {},
   "outputs": [],
   "source": [
    "def before_reversing_and_goodness(\n",
    "    df,\n",
    "    time_bofore_reverse_ns\n",
    "):\n",
    "    df = df.copy()\n",
    "    df['reverse_in_the_future'] = find_moments_before_reverse(df, threshold_ns=time_bofore_reverse_ns)\n",
    "    df['goodness'] = ((df['reverse_in_the_future'] == 0) & (df['idle'] == 0) & (df[col_throttle_scaled] > 0.3)) * 1\n",
    "    return df\n",
    "\n"
   ]
  },
  {
   "cell_type": "code",
   "execution_count": null,
   "metadata": {},
   "outputs": [],
   "source": [
    "db_names"
   ]
  },
  {
   "cell_type": "code",
   "execution_count": null,
   "metadata": {},
   "outputs": [],
   "source": [
    "for name in [\n",
    "    'sergem_robocar_20191009_v2',\n",
    "    'sergem_robocar_20191106',\n",
    "    'sergem_robocar_20191126_entrance',\n",
    "]:\n",
    "    dfs[name] = before_reversing_and_goodness(dfs[name], time_bofore_reverse_ns= 3*1e9)"
   ]
  },
  {
   "cell_type": "code",
   "execution_count": null,
   "metadata": {},
   "outputs": [],
   "source": [
    "for name in [\n",
    "    'sergem_robocar_20191127',\n",
    "    'sergem_robocar_20191202',\n",
    "]:\n",
    "    dfs[name] = before_reversing_and_goodness(dfs[name], time_bofore_reverse_ns= 1)\n",
    "    "
   ]
  },
  {
   "cell_type": "code",
   "execution_count": null,
   "metadata": {},
   "outputs": [],
   "source": [
    "df = dfs[db_names[3]]\n",
    "go.Figure(data=[\n",
    "    go.Scatter(x=df.index, y=df[col_steering_scaled], mode='lines', name='steeing_scaled'),\n",
    "    go.Scatter(x=df.index, y=df[col_throttle_scaled], mode='lines', name='throttle_scaled'),\n",
    "    go.Scatter(x=df.index, y=df['reverse_in_the_future'], mode='lines', name='reverse_in_the_future',\n",
    "              line=dict(width=1,dash='dash')),\n",
    "    go.Scatter(x=df.index, y=df['idle'], mode='lines', name='idle',\n",
    "              line=dict(width=1,dash='dash')),\n",
    "    go.Scatter(x=df.index, y=df['goodness'], mode='lines', name='goodness',\n",
    "              line=dict(width=2,dash='dash')),\n",
    "\n",
    "]).show()\n",
    "df.size"
   ]
  },
  {
   "cell_type": "code",
   "execution_count": null,
   "metadata": {},
   "outputs": [],
   "source": [
    "df[df['reverse_in_the_future']!=0]"
   ]
  },
  {
   "cell_type": "markdown",
   "metadata": {},
   "source": [
    "## Saving filtered data"
   ]
  },
  {
   "cell_type": "code",
   "execution_count": null,
   "metadata": {},
   "outputs": [],
   "source": [
    "for db_name in db_names:\n",
    "    df = dfs[db_name].copy()\n",
    "    df[col_img] = df[col_img].map(lambda path: str(Path(db_name) / path))\n",
    "    df = df[df['goodness'] != 0]\n",
    "    print(df[df['goodness'] == 0].size)\n",
    "    df.to_csv(base_dir / db_name / f\"{db_name}.filteredcsv\", index=False)"
   ]
  },
  {
   "cell_type": "code",
   "execution_count": null,
   "metadata": {},
   "outputs": [],
   "source": [
    "# df['image'].iloc[0]"
   ]
  },
  {
   "cell_type": "markdown",
   "metadata": {},
   "source": [
    "# Loading filtered data "
   ]
  },
  {
   "cell_type": "code",
   "execution_count": null,
   "metadata": {},
   "outputs": [],
   "source": [
    "filtered_csv_paths = sorted(base_dir.glob(\"**/*.filteredcsv\"))\n",
    "filtered_csv_paths"
   ]
  },
  {
   "cell_type": "code",
   "execution_count": null,
   "metadata": {},
   "outputs": [],
   "source": [
    "df_filtered = load_and_merge_csvs(filtered_csv_paths)"
   ]
  },
  {
   "cell_type": "code",
   "execution_count": null,
   "metadata": {},
   "outputs": [],
   "source": [
    "df_filtered.size, df_filtered.shape"
   ]
  },
  {
   "cell_type": "code",
   "execution_count": null,
   "metadata": {},
   "outputs": [],
   "source": [
    "df_filtered.head()"
   ]
  },
  {
   "cell_type": "markdown",
   "metadata": {},
   "source": [
    "## Flip images"
   ]
  },
  {
   "cell_type": "code",
   "execution_count": null,
   "metadata": {},
   "outputs": [],
   "source": []
  },
  {
   "cell_type": "code",
   "execution_count": null,
   "metadata": {},
   "outputs": [],
   "source": [
    "dirname_flip_lr = \"_flip_lr\" \n",
    "base_flip_path = base_dir / dirname_flip_lr\n",
    "base_flip_path.mkdir(exist_ok=True, parents=True)"
   ]
  },
  {
   "cell_type": "code",
   "execution_count": null,
   "metadata": {},
   "outputs": [],
   "source": [
    "import PIL\n",
    "from keras_preprocessing.image.utils import load_img\n",
    "def create_flipped_image(path_src, path_dst, skip_if_exists=False, exceptions_ok=False, overwrite=False):\n",
    "    if path_dst.exists():\n",
    "        if skip_if_exists:\n",
    "            return np.array([0, 1, 0])\n",
    "        if not overwrite:\n",
    "            raise FileExistsError(f'file exists: {path_dst}')\n",
    "    try:\n",
    "        path_dst.parent.mkdir(exist_ok=True, parents=True)\n",
    "        img = load_img(path_src)\n",
    "        img = img.transpose(PIL.Image.FLIP_LEFT_RIGHT)\n",
    "        img.save(path_dst)\n",
    "        \n",
    "        return np.array([1, 0, 0])\n",
    "    except Exception as e:\n",
    "        if not exceptions_ok:\n",
    "            raise\n",
    "        print(f\"Filed processing of image {path_src}. Exception: {e}\")\n",
    "        return np.array([0, 0, 1])\n",
    "        "
   ]
  },
  {
   "cell_type": "code",
   "execution_count": null,
   "metadata": {},
   "outputs": [],
   "source": [
    "from tqdm import tqdm_notebook"
   ]
  },
  {
   "cell_type": "code",
   "execution_count": null,
   "metadata": {},
   "outputs": [],
   "source": [
    "stats = sum(\n",
    "    (\n",
    "        create_flipped_image(base_dir / img_path, base_flip_path / img_path, skip_if_exists=True) \n",
    "        for img_path in tqdm_notebook(df_filtered[col_img])\n",
    "    ), \n",
    "    np.array([0, 0, 0])\n",
    ")\n",
    "print(f\"all {np.sum(stats)}, processed {stats[0]}, exist {stats[1]}, faild {stats[2]}\")\n",
    "    "
   ]
  },
  {
   "cell_type": "markdown",
   "metadata": {},
   "source": [
    "## split to training and validataion by indexes\n",
    "It's just a proxy for time"
   ]
  },
  {
   "cell_type": "code",
   "execution_count": null,
   "metadata": {},
   "outputs": [],
   "source": [
    "is_valid = df_filtered.index % 1000 > 800\n",
    "df_filtered[col_validation] = is_valid * 1\n"
   ]
  },
  {
   "cell_type": "code",
   "execution_count": null,
   "metadata": {},
   "outputs": [],
   "source": [
    "def plot_scaled(df):\n",
    "    go.Figure(data=[\n",
    "        go.Scatter(x=df.index, y=df[col_steering_scaled], mode='lines', name='steeing_scaled'),\n",
    "        go.Scatter(x=df.index, y=df[col_throttle_scaled], mode='lines', name='throttle_scaled'),\n",
    "        go.Scatter(x=df.index, y=df[col_validation], mode='lines', name='validation'),\n",
    "    ]).show()\n",
    "    \n",
    "plot_scaled(df_filtered)"
   ]
  },
  {
   "cell_type": "code",
   "execution_count": null,
   "metadata": {},
   "outputs": [],
   "source": [
    "df_filtered_filp_lr = df_filtered.copy()\n",
    "df_filtered_filp_lr[col_img] = dirname_flip_lr + '/' + df_filtered_filp_lr[col_img].str[:]\n",
    "df_filtered_filp_lr\n",
    "df_filtered_filp_lr[col_steering_scaled] = -df_filtered_filp_lr[col_steering_scaled]"
   ]
  },
  {
   "cell_type": "code",
   "execution_count": null,
   "metadata": {},
   "outputs": [],
   "source": [
    "df_filtered_normal_and_flip_lr = pd.concat([\n",
    "    df_filtered, df_filtered_filp_lr\n",
    "], ignore_index=True)\n",
    "plot_scaled(df_filtered_normal_and_flip_lr)\n",
    "df_filtered_normal_and_flip_lr"
   ]
  },
  {
   "cell_type": "code",
   "execution_count": null,
   "metadata": {},
   "outputs": [],
   "source": [
    "# shuffle to avoid issue: https://github.com/keras-team/keras-preprocessing/issues/205\n",
    "df_train = df_filtered_normal_and_flip_lr[df_filtered_normal_and_flip_lr[col_validation] == 0].sample(frac=1) \n",
    "\n",
    "df_val = df_filtered_normal_and_flip_lr[df_filtered_normal_and_flip_lr[col_validation] == 1]\n",
    "df_train.shape, df_val.shape, df_train.shape"
   ]
  },
  {
   "cell_type": "code",
   "execution_count": null,
   "metadata": {},
   "outputs": [],
   "source": [
    "df_train[df_train.index == 123]"
   ]
  },
  {
   "cell_type": "code",
   "execution_count": null,
   "metadata": {},
   "outputs": [],
   "source": [
    "df_val[df_val.index == 850]"
   ]
  },
  {
   "cell_type": "markdown",
   "metadata": {},
   "source": [
    "# Visualization"
   ]
  },
  {
   "cell_type": "code",
   "execution_count": null,
   "metadata": {},
   "outputs": [],
   "source": [
    "def visualize(imgs, y=None, pred=None, ncols=4, subplots_kwargs=dict(figsize=(15,20), )):\n",
    "    def format_(arr, idx):\n",
    "        if arr is None:\n",
    "            return \"-\"\n",
    "        return ' '.join(['{:.3f}'.format(a.ravel()[idx]) for a in arr])\n",
    "        \n",
    "    _, axes = plt.subplots((len(imgs) + ncols - 1) // ncols, ncols, \n",
    "                           squeeze=False, sharex=True, sharey=True, \n",
    "                           gridspec_kw={'hspace': 0, 'wspace': 0},\n",
    "                           **subplots_kwargs\n",
    "                          )\n",
    "    for i, ax in enumerate(axes.flat):\n",
    "        ax.imshow(imgs[i])\n",
    "        \n",
    "        text = \"y {} \\npred {}\".format(format_(y, i), format_(pred, i))\n",
    "        ax.text(20, 20, text, color='cyan')"
   ]
  },
  {
   "cell_type": "markdown",
   "metadata": {},
   "source": [
    "# Training"
   ]
  },
  {
   "cell_type": "code",
   "execution_count": null,
   "metadata": {},
   "outputs": [],
   "source": [
    "def create_generator(datagen, df):\n",
    "    return datagen.flow_from_dataframe(\n",
    "        dataframe=df, \n",
    "        directory=str(base_dir),\n",
    "        x_col=col_img,\n",
    "        y_col=[col_steering_scaled, col_throttle_scaled],\n",
    "        class_mode=\"multi_output\",\n",
    "        target_size=(IMAGE_INPUT_HEIGHT, IMAGE_INPUT_WIDTH),\n",
    "        batch_size=32,\n",
    "        shuffle=False\n",
    "    )"
   ]
  },
  {
   "cell_type": "code",
   "execution_count": null,
   "metadata": {},
   "outputs": [],
   "source": [
    "train_generator=create_generator(\n",
    "    datagen=ImageDataGenerator(\n",
    "        rescale=1./255,\n",
    "        rotation_range=10,\n",
    "        zoom_range=[0.8, 1.2],\n",
    "        width_shift_range=0.1,\n",
    "        height_shift_range=0.1,\n",
    "        brightness_range=(0.2, 1.5),\n",
    "        shear_range=5.,\n",
    "        channel_shift_range=50,\n",
    "        vertical_flip=False, # we don't need it\n",
    "        horizontal_flip=False, # We do it manually because we have to flip steering\n",
    "    ),\n",
    "    df=df_train\n",
    ")\n",
    "dbg_imgs, dbg_y = train_generator.next()\n",
    "visualize(dbg_imgs, dbg_y, subplots_kwargs={'figsize': (10, 10)})"
   ]
  },
  {
   "cell_type": "code",
   "execution_count": null,
   "metadata": {},
   "outputs": [],
   "source": [
    "val_generator=create_generator(\n",
    "    datagen=ImageDataGenerator(\n",
    "        rescale=1./255,\n",
    "        vertical_flip=False, # we don't need it\n",
    "        horizontal_flip=False, # We do it manually because we have to flip steering\n",
    "    ),\n",
    "    df=df_val\n",
    ")"
   ]
  },
  {
   "cell_type": "code",
   "execution_count": null,
   "metadata": {},
   "outputs": [],
   "source": [
    "dbg_imgs, dbg_y = val_generator[50]\n",
    "visualize(dbg_imgs, dbg_y, subplots_kwargs={'figsize': (10, 10)})"
   ]
  },
  {
   "cell_type": "code",
   "execution_count": null,
   "metadata": {},
   "outputs": [],
   "source": [
    "# np.set_printoptions(precision=3)"
   ]
  },
  {
   "cell_type": "code",
   "execution_count": null,
   "metadata": {},
   "outputs": [],
   "source": [
    "from keras_preprocessing.image.utils import load_img"
   ]
  },
  {
   "cell_type": "code",
   "execution_count": null,
   "metadata": {},
   "outputs": [],
   "source": [
    "dbg_y"
   ]
  },
  {
   "cell_type": "code",
   "execution_count": null,
   "metadata": {},
   "outputs": [],
   "source": [
    "def default_linear():\n",
    "    img_in = Input(shape=(120, 160, 3), name='img_in')\n",
    "    x = img_in\n",
    "\n",
    "    # Convolution2D class name is an alias for Conv2D\n",
    "    x = Convolution2D(filters=24, kernel_size=(5, 5), strides=(2, 2), activation='relu')(x)\n",
    "    x = Convolution2D(filters=32, kernel_size=(5, 5), strides=(2, 2), activation='relu')(x)\n",
    "    x = Convolution2D(filters=64, kernel_size=(5, 5), strides=(2, 2), activation='relu')(x)\n",
    "    x = Convolution2D(filters=64, kernel_size=(3, 3), strides=(2, 2), activation='relu')(x)\n",
    "    x = Convolution2D(filters=64, kernel_size=(3, 3), strides=(1, 1), activation='relu')(x)\n",
    "\n",
    "    x = Flatten(name='flattened')(x)\n",
    "    x = Dense(units=100, activation='relu')(x)\n",
    "    x = Dropout(rate=.1)(x)\n",
    "    x = Dense(units=50, activation='relu')(x)\n",
    "    x = Dropout(rate=.1)(x)\n",
    "    \n",
    "    angle_out = Dense(units=1, activation='linear', name='angle_out')(x)\n",
    "\n",
    "    # continous output of throttle\n",
    "    throttle_out = Dense(units=1, activation='linear', name='throttle_out')(x)\n",
    "\n",
    "    model = Model(inputs=[img_in], outputs=[\n",
    "        angle_out, \n",
    "        throttle_out\n",
    "    ])\n",
    "\n",
    "    model.compile(optimizer='adam',\n",
    "                  loss={\n",
    "                      'angle_out': 'mean_squared_error',\n",
    "                      'throttle_out': 'mean_squared_error'\n",
    "                  },\n",
    "                  loss_weights={\n",
    "                      'angle_out': 0.97, \n",
    "                      'throttle_out': .03\n",
    "                  }\n",
    "                 )\n",
    "\n",
    "    return model"
   ]
  },
  {
   "cell_type": "code",
   "execution_count": null,
   "metadata": {},
   "outputs": [],
   "source": [
    "model = default_linear()"
   ]
  },
  {
   "cell_type": "code",
   "execution_count": null,
   "metadata": {},
   "outputs": [],
   "source": [
    "use_early_stop = True\n",
    "epochs = 12\n",
    "saved_model_path = Path(\"./models/linear_20191204_aug2_fliplr_relu4dense_noold2.model\")\n",
    "verbose = True\n",
    "min_delta=.0005\n",
    "patience=5"
   ]
  },
  {
   "cell_type": "code",
   "execution_count": null,
   "metadata": {},
   "outputs": [],
   "source": [
    "len(train_generator), train_generator.n, train_generator.batch_size, 40*32"
   ]
  },
  {
   "cell_type": "code",
   "execution_count": null,
   "metadata": {},
   "outputs": [],
   "source": [
    "saved_model_path.parent.mkdir(exist_ok=True, parents=True)"
   ]
  },
  {
   "cell_type": "code",
   "execution_count": null,
   "metadata": {},
   "outputs": [],
   "source": [
    "model.summary()"
   ]
  },
  {
   "cell_type": "code",
   "execution_count": null,
   "metadata": {
    "scrolled": false
   },
   "outputs": [],
   "source": [
    "save_best = ModelCheckpoint(str(saved_model_path),\n",
    "                            monitor='val_loss',\n",
    "                            verbose=verbose,\n",
    "                            save_best_only=True,\n",
    "                            mode='min')\n",
    "\n",
    "# stop training if the validation error stops improving.\n",
    "early_stop = EarlyStopping(monitor='val_loss',\n",
    "                           min_delta=min_delta,\n",
    "                           patience=patience,\n",
    "                           verbose=verbose,\n",
    "                           mode='auto')\n",
    "\n",
    "log_dir = Path(\"logs\") / f'{datetime.datetime.now().strftime(\"%Y%m%d-%H%M%S\")}_{saved_model_path.stem}'\n",
    "log_dir.mkdir(parents=True)\n",
    "\n",
    "tb = TensorBoard(log_dir=str(log_dir))\n",
    "\n",
    "callbacks_list = [save_best, tb]\n",
    "\n",
    "if use_early_stop:\n",
    "    callbacks_list.append(early_stop)\n",
    "\n",
    "hist = model.fit_generator(\n",
    "    train_generator,\n",
    "    epochs=epochs,\n",
    "    verbose=1,\n",
    "    validation_data=val_generator,\n",
    "    callbacks=callbacks_list)"
   ]
  },
  {
   "cell_type": "code",
   "execution_count": null,
   "metadata": {},
   "outputs": [],
   "source": [
    "vis_imgs, vis_y = val_generator.next()\n",
    "vis_pred = model.predict(vis_imgs)\n",
    "visualize(vis_imgs, vis_y, vis_pred)"
   ]
  },
  {
   "cell_type": "code",
   "execution_count": null,
   "metadata": {},
   "outputs": [],
   "source": [
    "# steering\n",
    "plt.plot(vis_y[0], label=\"manual\")\n",
    "plt.plot(vis_pred[0], label=\"prediction\")\n",
    "plt.legend()"
   ]
  },
  {
   "cell_type": "code",
   "execution_count": null,
   "metadata": {},
   "outputs": [],
   "source": [
    "# Throttle\n",
    "plt.plot(vis_y[1])\n",
    "plt.plot(vis_pred[1])"
   ]
  },
  {
   "cell_type": "code",
   "execution_count": null,
   "metadata": {},
   "outputs": [],
   "source": []
  },
  {
   "cell_type": "code",
   "execution_count": null,
   "metadata": {},
   "outputs": [],
   "source": []
  }
 ],
 "metadata": {
  "kernelspec": {
   "display_name": "Python 3",
   "language": "python",
   "name": "python3"
  },
  "language_info": {
   "codemirror_mode": {
    "name": "ipython",
    "version": 3
   },
   "file_extension": ".py",
   "mimetype": "text/x-python",
   "name": "python",
   "nbconvert_exporter": "python",
   "pygments_lexer": "ipython3",
   "version": "3.6.8"
  }
 },
 "nbformat": 4,
 "nbformat_minor": 2
}
