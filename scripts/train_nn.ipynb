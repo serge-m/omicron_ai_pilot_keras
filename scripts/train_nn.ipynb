{
 "cells": [
  {
   "cell_type": "code",
   "execution_count": 133,
   "metadata": {},
   "outputs": [],
   "source": [
    "import logging\n",
    "from math import floor\n",
    "\n",
    "from tensorflow.python.keras.layers import Input\n",
    "from tensorflow.python.keras.models import Model, load_model\n",
    "from tensorflow.python.keras.layers import Convolution2D\n",
    "from tensorflow.python.keras.layers import Dropout, Flatten, Dense\n",
    "from tensorflow.python.keras.callbacks import ModelCheckpoint, EarlyStopping, TensorBoard\n",
    "from keras_preprocessing.image import ImageDataGenerator\n",
    "\n",
    "import matplotlib.pyplot as plt\n",
    "\n",
    "try:\n",
    "    from pathlib import Path\n",
    "except ImportError:\n",
    "    from pathlib2 import Path\n",
    "\n",
    "import pandas as pd\n",
    "import os\n",
    "import numpy as np\n",
    "\n",
    "logger = logging.getLogger(__name__)"
   ]
  },
  {
   "cell_type": "code",
   "execution_count": 2,
   "metadata": {},
   "outputs": [],
   "source": [
    "\n",
    "IMAGE_INPUT_WIDTH=160\n",
    "IMAGE_INPUT_HEIGHT=120\n",
    "# This discards number of pixels from the top after scaling\n",
    "TOP_MARGIN_IN_PIXELS=8\n",
    "\n",
    "\n",
    "col_img = 'image'\n",
    "col_steering = 'msg.steering'\n",
    "col_throttle = 'msg.throttle'\n",
    "col_image_ts = 'image_timestamp'\n",
    "col_steernig_ts = 'steering_timestamp'\n",
    "col_steering_scaled = 'steering_scaled'\n",
    "col_throttle_scaled = 'throttle_scaled'\n",
    "\n",
    "base_dir = Path(\"./data/\")\n",
    "def read_csv(path):\n",
    "    df = pd.read_csv(path)\n",
    "    for col in [col_img, col_steering, col_throttle, col_image_ts, col_steernig_ts]:\n",
    "        assert col in df.columns, f'missing {col} in {path}'\n",
    "    return df"
   ]
  },
  {
   "cell_type": "markdown",
   "metadata": {},
   "source": [
    "# Read files and concatenate them"
   ]
  },
  {
   "cell_type": "code",
   "execution_count": 3,
   "metadata": {},
   "outputs": [
    {
     "name": "stdout",
     "output_type": "stream",
     "text": [
      "Loading 12 csvs:\n",
      "data/sergem_robocar_20191003_v2/robocar_recording__2016-02-11-16-35-11_0_f.csv\n",
      "data/sergem_robocar_20191003_v2/robocar_recording__2016-02-11-16-38-11_1.csv\n",
      "data/sergem_robocar_20191003_v2/robocar_recording__2016-02-11-16-52-47_0_f.csv\n",
      "data/sergem_robocar_20191003_v2/robocar_recording__2016-02-11-16-55-47_1.csv\n",
      "data/sergem_robocar_20191003_v2/robocar_recording__2016-02-11-16-58-47_2_f.csv\n",
      "data/sergem_robocar_20191003_v2/robocar_recording__2016-02-11-17-01-47_3_f.csv\n",
      "data/sergem_robocar_20191003_v2/robocar_recording__2016-02-11-17-04-47_4.csv\n",
      "data/sergem_robocar_20191003_v2/robocar_recording__2016-02-11-17-07-47_5.csv\n",
      "data/sergem_robocar_20191003_v2/robocar_recording__2016-02-11-17-10-47_6.csv\n",
      "data/sergem_robocar_20191003_v2/robocar_recording__2016-02-11-17-13-47_7.csv\n",
      "data/sergem_robocar_20191003_v2/robocar_recording__2016-02-11-17-16-47_8.csv\n",
      "data/sergem_robocar_20191003_v2/robocar_recording__2016-02-11-17-19-47_9.csv\n",
      "loaded (17587, 5)\n",
      "Loading 3 csvs:\n",
      "data/sergem_robocar_20191009_v2/robocar_recording_20191008_2016-02-11-16-43-19_0_f.csv\n",
      "data/sergem_robocar_20191009_v2/robocar_recording_20191008_2016-02-11-16-46-19_1_f.csv\n",
      "data/sergem_robocar_20191009_v2/robocar_recording_20191008_2016-02-11-16-49-19_2_f.csv\n",
      "loaded (3968, 5)\n",
      "Loading 23 csvs:\n",
      "data/sergem_robocar_20191106/robocar_recording__2016-02-11-17-16-01_f.csv\n",
      "data/sergem_robocar_20191106/robocar_recording__2016-02-11-17-33-19_1_f.csv\n",
      "data/sergem_robocar_20191106/robocar_recording__2016-02-11-17-36-19_2_full.csv\n",
      "data/sergem_robocar_20191106/robocar_recording__2016-02-11-17-39-19_3_full.csv\n",
      "data/sergem_robocar_20191106/robocar_recording__2016-02-11-17-42-19_4_full.csv\n",
      "data/sergem_robocar_20191106/robocar_recording__2016-02-11-17-57-53_0_f.csv\n",
      "data/sergem_robocar_20191106/robocar_recording__2016-02-11-18-00-53_1_full.csv\n",
      "data/sergem_robocar_20191106/robocar_recording__2016-02-11-18-03-53_2_f_1.csv\n",
      "data/sergem_robocar_20191106/robocar_recording__2016-02-11-18-03-53_2_f_2.csv\n",
      "data/sergem_robocar_20191106/robocar_recording__2016-02-11-18-06-53_3_f.csv\n",
      "data/sergem_robocar_20191106/robocar_recording__2016-02-11-18-12-53_5_f.csv\n",
      "data/sergem_robocar_20191106/robocar_recording__2016-02-11-18-15-53_6_f.csv\n",
      "data/sergem_robocar_20191106/robocar_recording__2016-02-11-18-18-53_7_f.csv\n",
      "data/sergem_robocar_20191106/robocar_recording__2016-02-11-18-21-53_8_full.csv\n",
      "data/sergem_robocar_20191106/robocar_recording__2016-02-11-18-24-53_9_full.csv\n",
      "data/sergem_robocar_20191106/robocar_recording__2016-02-11-18-27-53_10_f.csv\n",
      "data/sergem_robocar_20191106/robocar_recording__2016-02-11-18-30-53_11_f.csv\n",
      "data/sergem_robocar_20191106/robocar_recording__2016-02-11-18-33-53_12_full.csv\n",
      "data/sergem_robocar_20191106/robocar_recording__2016-02-11-18-36-53_13_full.csv\n",
      "data/sergem_robocar_20191106/robocar_recording__2016-02-11-18-39-53_14_f_1.csv\n",
      "data/sergem_robocar_20191106/robocar_recording__2016-02-11-18-39-53_14_f_2.csv\n",
      "data/sergem_robocar_20191106/robocar_recording__2016-02-11-18-42-53_15_full.csv\n",
      "data/sergem_robocar_20191106/robocar_recording__2016-02-11-18-45-53_16_f.csv\n",
      "loaded (25800, 5)\n",
      "Loading 4 csvs:\n",
      "data/sergem_robocar_20191126_entrance/robocar_recording__entrance__2019-11-26_0_f_0.csv\n",
      "data/sergem_robocar_20191126_entrance/robocar_recording__entrance__2019-11-26_0_f_1.csv\n",
      "data/sergem_robocar_20191126_entrance/robocar_recording__entrance__2019-11-26_0_f_2.csv\n",
      "data/sergem_robocar_20191126_entrance/robocar_recording__entrance__2019-11-26_0_f_3.csv\n",
      "loaded (469, 5)\n"
     ]
    }
   ],
   "source": [
    "def load_and_merge_csvs(paths_csv):\n",
    "    print('Loading {} csvs:\\n{}'.format(len(paths_csv), '\\n'.join(str(p) for p in paths_csv)))\n",
    "    csvs = [read_csv(str(path)) for path in paths_csv]\n",
    "    df = pd.concat(csvs, axis=0, ignore_index=True)\n",
    "    print(f'loaded {df.shape}')\n",
    "    return df\n",
    "\n",
    "db_names =  [\n",
    "        \"sergem_robocar_20191003_v2\", \n",
    "        \"sergem_robocar_20191009_v2\",\n",
    "        \"sergem_robocar_20191106\",\n",
    "        \"sergem_robocar_20191126_entrance\",\n",
    "    ]\n",
    "dfs = {\n",
    "    db_name: load_and_merge_csvs(sorted(base_dir.glob(f\"{db_name}/*.csv\")))\n",
    "    for db_name in db_names\n",
    "}\n",
    "# df1 = load_and_merge_csvs(sorted(base_dir.glob(\"sergem_robocar_20191003_v2/*.csv\")))\n",
    "# df2 = load_and_merge_csvs(sorted(base_dir.glob(\"*201911*/*.csv\")))"
   ]
  },
  {
   "cell_type": "code",
   "execution_count": 4,
   "metadata": {},
   "outputs": [
    {
     "data": {
      "text/html": [
       "<div>\n",
       "<style scoped>\n",
       "    .dataframe tbody tr th:only-of-type {\n",
       "        vertical-align: middle;\n",
       "    }\n",
       "\n",
       "    .dataframe tbody tr th {\n",
       "        vertical-align: top;\n",
       "    }\n",
       "\n",
       "    .dataframe thead th {\n",
       "        text-align: right;\n",
       "    }\n",
       "</style>\n",
       "<table border=\"1\" class=\"dataframe\">\n",
       "  <thead>\n",
       "    <tr style=\"text-align: right;\">\n",
       "      <th></th>\n",
       "      <th>image_timestamp</th>\n",
       "      <th>steering_timestamp</th>\n",
       "      <th>image</th>\n",
       "      <th>msg.steering</th>\n",
       "      <th>msg.throttle</th>\n",
       "    </tr>\n",
       "  </thead>\n",
       "  <tbody>\n",
       "    <tr>\n",
       "      <td>0</td>\n",
       "      <td>1455208587539773695</td>\n",
       "      <td>1455208587542355136</td>\n",
       "      <td>robocar_recording__2016-02-11-16-35-11_0_f/fra...</td>\n",
       "      <td>1372</td>\n",
       "      <td>1732</td>\n",
       "    </tr>\n",
       "    <tr>\n",
       "      <td>1</td>\n",
       "      <td>1455208587637106047</td>\n",
       "      <td>1455208587642769706</td>\n",
       "      <td>robocar_recording__2016-02-11-16-35-11_0_f/fra...</td>\n",
       "      <td>1372</td>\n",
       "      <td>1736</td>\n",
       "    </tr>\n",
       "    <tr>\n",
       "      <td>2</td>\n",
       "      <td>1455208587738445506</td>\n",
       "      <td>1455208587743968176</td>\n",
       "      <td>robocar_recording__2016-02-11-16-35-11_0_f/fra...</td>\n",
       "      <td>1368</td>\n",
       "      <td>1756</td>\n",
       "    </tr>\n",
       "    <tr>\n",
       "      <td>3</td>\n",
       "      <td>1455208587837093786</td>\n",
       "      <td>1455208587842914892</td>\n",
       "      <td>robocar_recording__2016-02-11-16-35-11_0_f/fra...</td>\n",
       "      <td>1348</td>\n",
       "      <td>1824</td>\n",
       "    </tr>\n",
       "    <tr>\n",
       "      <td>4</td>\n",
       "      <td>1455208587937189035</td>\n",
       "      <td>1455208587944909971</td>\n",
       "      <td>robocar_recording__2016-02-11-16-35-11_0_f/fra...</td>\n",
       "      <td>1336</td>\n",
       "      <td>1828</td>\n",
       "    </tr>\n",
       "  </tbody>\n",
       "</table>\n",
       "</div>"
      ],
      "text/plain": [
       "       image_timestamp   steering_timestamp  \\\n",
       "0  1455208587539773695  1455208587542355136   \n",
       "1  1455208587637106047  1455208587642769706   \n",
       "2  1455208587738445506  1455208587743968176   \n",
       "3  1455208587837093786  1455208587842914892   \n",
       "4  1455208587937189035  1455208587944909971   \n",
       "\n",
       "                                               image  msg.steering  \\\n",
       "0  robocar_recording__2016-02-11-16-35-11_0_f/fra...          1372   \n",
       "1  robocar_recording__2016-02-11-16-35-11_0_f/fra...          1372   \n",
       "2  robocar_recording__2016-02-11-16-35-11_0_f/fra...          1368   \n",
       "3  robocar_recording__2016-02-11-16-35-11_0_f/fra...          1348   \n",
       "4  robocar_recording__2016-02-11-16-35-11_0_f/fra...          1336   \n",
       "\n",
       "   msg.throttle  \n",
       "0          1732  \n",
       "1          1736  \n",
       "2          1756  \n",
       "3          1824  \n",
       "4          1828  "
      ]
     },
     "execution_count": 4,
     "metadata": {},
     "output_type": "execute_result"
    }
   ],
   "source": [
    "dfs[db_names[0]].head()"
   ]
  },
  {
   "cell_type": "code",
   "execution_count": 5,
   "metadata": {},
   "outputs": [
    {
     "data": {
      "text/html": [
       "<div>\n",
       "<style scoped>\n",
       "    .dataframe tbody tr th:only-of-type {\n",
       "        vertical-align: middle;\n",
       "    }\n",
       "\n",
       "    .dataframe tbody tr th {\n",
       "        vertical-align: top;\n",
       "    }\n",
       "\n",
       "    .dataframe thead th {\n",
       "        text-align: right;\n",
       "    }\n",
       "</style>\n",
       "<table border=\"1\" class=\"dataframe\">\n",
       "  <thead>\n",
       "    <tr style=\"text-align: right;\">\n",
       "      <th></th>\n",
       "      <th>image_timestamp</th>\n",
       "      <th>steering_timestamp</th>\n",
       "      <th>image</th>\n",
       "      <th>msg.steering</th>\n",
       "      <th>msg.throttle</th>\n",
       "    </tr>\n",
       "  </thead>\n",
       "  <tbody>\n",
       "    <tr>\n",
       "      <td>0</td>\n",
       "      <td>1455211065290544335</td>\n",
       "      <td>1455211065290725636</td>\n",
       "      <td>robocar_recording__2016-02-11-17-16-01_f/frame...</td>\n",
       "      <td>1496</td>\n",
       "      <td>1844</td>\n",
       "    </tr>\n",
       "    <tr>\n",
       "      <td>1</td>\n",
       "      <td>1455211065390654605</td>\n",
       "      <td>1455211065391509495</td>\n",
       "      <td>robocar_recording__2016-02-11-17-16-01_f/frame...</td>\n",
       "      <td>1480</td>\n",
       "      <td>1820</td>\n",
       "    </tr>\n",
       "    <tr>\n",
       "      <td>2</td>\n",
       "      <td>1455211065494394017</td>\n",
       "      <td>1455211065502565942</td>\n",
       "      <td>robocar_recording__2016-02-11-17-16-01_f/frame...</td>\n",
       "      <td>1460</td>\n",
       "      <td>1816</td>\n",
       "    </tr>\n",
       "    <tr>\n",
       "      <td>3</td>\n",
       "      <td>1455211065591689462</td>\n",
       "      <td>1455211065592365759</td>\n",
       "      <td>robocar_recording__2016-02-11-17-16-01_f/frame...</td>\n",
       "      <td>1460</td>\n",
       "      <td>1820</td>\n",
       "    </tr>\n",
       "    <tr>\n",
       "      <td>4</td>\n",
       "      <td>1455211065693746541</td>\n",
       "      <td>1455211065695147782</td>\n",
       "      <td>robocar_recording__2016-02-11-17-16-01_f/frame...</td>\n",
       "      <td>1464</td>\n",
       "      <td>1864</td>\n",
       "    </tr>\n",
       "  </tbody>\n",
       "</table>\n",
       "</div>"
      ],
      "text/plain": [
       "       image_timestamp   steering_timestamp  \\\n",
       "0  1455211065290544335  1455211065290725636   \n",
       "1  1455211065390654605  1455211065391509495   \n",
       "2  1455211065494394017  1455211065502565942   \n",
       "3  1455211065591689462  1455211065592365759   \n",
       "4  1455211065693746541  1455211065695147782   \n",
       "\n",
       "                                               image  msg.steering  \\\n",
       "0  robocar_recording__2016-02-11-17-16-01_f/frame...          1496   \n",
       "1  robocar_recording__2016-02-11-17-16-01_f/frame...          1480   \n",
       "2  robocar_recording__2016-02-11-17-16-01_f/frame...          1460   \n",
       "3  robocar_recording__2016-02-11-17-16-01_f/frame...          1460   \n",
       "4  robocar_recording__2016-02-11-17-16-01_f/frame...          1464   \n",
       "\n",
       "   msg.throttle  \n",
       "0          1844  \n",
       "1          1820  \n",
       "2          1816  \n",
       "3          1820  \n",
       "4          1864  "
      ]
     },
     "execution_count": 5,
     "metadata": {},
     "output_type": "execute_result"
    }
   ],
   "source": [
    "dfs[db_names[2]].head()"
   ]
  },
  {
   "cell_type": "markdown",
   "metadata": {},
   "source": [
    "# defining scaling\n",
    "radio pwm has a certain range and the data is recorded as is. Now it's time to preprocess it to make it generic"
   ]
  },
  {
   "cell_type": "code",
   "execution_count": 26,
   "metadata": {},
   "outputs": [],
   "source": [
    "import plotly.graph_objects as go\n",
    "import plotly.io as pio\n",
    "pio.renderers.default = \"browser\"\n",
    "\n",
    "\n",
    "\n",
    "def plot_ranges(column, val_min=None, val_zero=None, val_max=None, update_layout_kwargs={}):\n",
    "    graphs =[\n",
    "        go.Scatter(x=column.index, y=column, mode='lines'),\n",
    "    ]\n",
    "    if val_min is not None:\n",
    "        graphs.append(go.Scatter(x=column.index, y=val_min, mode='lines', name='min'))\n",
    "    if val_zero is not None:\n",
    "        graphs.append(go.Scatter(x=column.index, y=val_zero, mode='lines', name='zero',\n",
    "                  line=dict(width=4,dash='dash')),\n",
    "        )\n",
    "    if val_max is not None:\n",
    "        graphs.append(go.Scatter(x=column.index, y=val_max, mode='lines', name='max'),)\n",
    "    fig = go.Figure()\n",
    "    fig.add_traces(graphs)\n",
    "    fig.update_layout(**update_layout_kwargs)\n",
    "    fig.show()"
   ]
  },
  {
   "cell_type": "code",
   "execution_count": 27,
   "metadata": {},
   "outputs": [],
   "source": [
    "def zeros_series_like(series):\n",
    "    return series * 0"
   ]
  },
  {
   "cell_type": "code",
   "execution_count": 64,
   "metadata": {},
   "outputs": [],
   "source": [
    "def rescale_steering(df,\n",
    "            st_zero = 1372,\n",
    "                     name='',\n",
    "                     show=True\n",
    "):\n",
    "    df = df.copy()\n",
    "    st_min, st_max = df[col_steering].quantile(q=[0.01, 0.99])\n",
    "    \n",
    "    print(st_min, st_max)\n",
    "    \n",
    "    zero_col = zeros_series_like(df[col_steering])\n",
    "    \n",
    "    if show:\n",
    "        plot_ranges(\n",
    "            df[col_steering], \n",
    "            zero_col + st_min, \n",
    "            zero_col + st_zero, \n",
    "            zero_col + st_max, \n",
    "            update_layout_kwargs = {'title': 'steering initial' + name}\n",
    "        )\n",
    "\n",
    "    df[col_steering_scaled] = np.clip(np.interp(df[col_steering], (st_min, st_zero, st_max), (-1, 0, +1)), -1, 1)\n",
    "    if show:\n",
    "        plot_ranges(\n",
    "            df[col_steering_scaled], \n",
    "            zero_col + -1, \n",
    "            zero_col + 0, \n",
    "            zero_col + 1, \n",
    "            update_layout_kwargs = {'title': 'steering scaled ' + name}\n",
    "        )\n",
    "    return df[col_steering_scaled]\n",
    "\n",
    "\n",
    "def rescale_throttle(\n",
    "    df,\n",
    "    shift_th_min = -1000, # check it with your data\n",
    "    shift_th_zero = -500,\n",
    "    window_size_max_throttle = 700,\n",
    "    name='',\n",
    "    show=True\n",
    "        \n",
    "):\n",
    "    df = df.copy()\n",
    "    th_max = df[col_throttle].rolling(window_size_max_throttle, center=True, min_periods=1).quantile(quantile=0.98)\n",
    "    th_min = th_max + shift_th_min\n",
    "    th_zero = th_max + shift_th_zero\n",
    "    \n",
    "    zero_col = zeros_series_like(df[col_steering])\n",
    "\n",
    "    if show:\n",
    "        plot_ranges(\n",
    "            df[col_throttle], \n",
    "            zero_col + th_min, \n",
    "            zero_col + th_zero, \n",
    "            zero_col + th_max,\n",
    "            update_layout_kwargs = {'title': 'throttle initial ' + name}\n",
    "        )\n",
    "\n",
    "    df[col_throttle_scaled] = 0\n",
    "    df[col_throttle_scaled] = (df[col_throttle] - th_min) / (th_max - th_min)\n",
    "    df[col_throttle_scaled] = df[col_throttle_scaled] * 2 - 1\n",
    "    df[col_throttle_scaled] = df[col_throttle_scaled].clip(-1., 1.)\n",
    "    \n",
    "    if show:\n",
    "        plot_ranges(\n",
    "            df[col_throttle_scaled], \n",
    "            zero_col + -1, \n",
    "            zero_col + 0, \n",
    "            zero_col + 1, \n",
    "            update_layout_kwargs = {'title': 'throttle scaled ' + name}\n",
    "        )\n",
    "    return df[col_throttle_scaled]"
   ]
  },
  {
   "cell_type": "code",
   "execution_count": 65,
   "metadata": {},
   "outputs": [],
   "source": [
    "def rescale_throttle_fwd_only(\n",
    "    df,\n",
    "    shift_th_zero=-1000,\n",
    "    window_size_max_throttle = 700,\n",
    "    name='',\n",
    "    show=True\n",
    "        \n",
    "):\n",
    "    df = df.copy()\n",
    "    th_max = df[col_throttle].rolling(window_size_max_throttle, center=True, min_periods=1).quantile(quantile=0.98)\n",
    "    th_zero = df[col_throttle].rolling(window_size_max_throttle, center=True, min_periods=1).quantile(quantile=0.02)\n",
    "    \n",
    "    \n",
    "    zero_col = zeros_series_like(df[col_steering])\n",
    "\n",
    "    if show:\n",
    "        plot_ranges(\n",
    "            df[col_throttle], \n",
    "            None, \n",
    "            zero_col + th_zero, \n",
    "            zero_col + th_max,\n",
    "            update_layout_kwargs = {'title': 'throttle initial ' + name}\n",
    "        )\n",
    "\n",
    "    df[col_throttle_scaled] = 0\n",
    "    df[col_throttle_scaled] = (df[col_throttle] - th_zero) / (th_max - th_zero)\n",
    "    df[col_throttle_scaled] = df[col_throttle_scaled].clip(0., 1.)\n",
    "    \n",
    "    if show:\n",
    "        plot_ranges(\n",
    "            df[col_throttle_scaled], \n",
    "            zero_col + -1, \n",
    "            zero_col + 0, \n",
    "            zero_col + 1, \n",
    "            update_layout_kwargs = {'title': 'throttle scaled ' + name}\n",
    "        )\n",
    "    return df[col_throttle_scaled]"
   ]
  },
  {
   "cell_type": "code",
   "execution_count": 66,
   "metadata": {},
   "outputs": [],
   "source": [
    "def rescale(df, name='', f_rescale_throttle=rescale_throttle):\n",
    "    df = df.copy()\n",
    "    df[col_steering_scaled] = rescale_steering(df, name=name)\n",
    "    df[col_throttle_scaled] = f_rescale_throttle(df, name=name)\n",
    "    df = df.set_index(df[col_image_ts])\n",
    "    return df"
   ]
  },
  {
   "cell_type": "code",
   "execution_count": 67,
   "metadata": {},
   "outputs": [
    {
     "name": "stdout",
     "output_type": "stream",
     "text": [
      "1144.0 1604.0\n",
      "1144.0 1604.0\n",
      "1168.0 1584.0\n",
      "1100.0 1656.0\n"
     ]
    }
   ],
   "source": [
    "dfs_scaled_min_max = {\n",
    "    db_name: rescale(dfs[db_name], name=db_name, f_rescale_throttle=rescale_throttle) \n",
    "    for db_name in [\n",
    "        \"sergem_robocar_20191003_v2\", \n",
    "        \"sergem_robocar_20191009_v2\",\n",
    "        \"sergem_robocar_20191106\",\n",
    "    ]\n",
    "} \n",
    "\n",
    "dfs_scaled_fwd_only = {\n",
    "    db_name: rescale(dfs[db_name], name=db_name, f_rescale_throttle=rescale_throttle_fwd_only) \n",
    "    for db_name in [\n",
    "        \"sergem_robocar_20191126_entrance\",\n",
    "    ]\n",
    "} "
   ]
  },
  {
   "cell_type": "code",
   "execution_count": 68,
   "metadata": {},
   "outputs": [],
   "source": [
    "dfs_scaled = {**dfs_scaled_min_max, **dfs_scaled_fwd_only}"
   ]
  },
  {
   "cell_type": "code",
   "execution_count": 69,
   "metadata": {},
   "outputs": [],
   "source": [
    "df = dfs_scaled[db_names[3]]\n",
    "go.Figure(data=[\n",
    "    go.Scatter(x=df.index, y=df[col_steering_scaled], mode='lines', name='steeing_scaled'),\n",
    "    go.Scatter(x=df.index, y=df[col_throttle_scaled], mode='lines', name='throttle_scaled'),\n",
    "]).show()"
   ]
  },
  {
   "cell_type": "markdown",
   "metadata": {},
   "source": [
    "#### Discard if \n",
    "\n",
    "1) if there is a reverse in the future 3 sec\n",
    "\n",
    "2) no throttle and no steering\n"
   ]
  },
  {
   "cell_type": "code",
   "execution_count": 86,
   "metadata": {},
   "outputs": [],
   "source": [
    "def find_moments_before_reverse(\n",
    "    df,\n",
    "    col_target = 'reverse_in_the_future',\n",
    "    threshold_ns = 3 * 1e9\n",
    "):\n",
    "    df = df.copy()\n",
    "    df[col_target] = 0\n",
    "\n",
    "    i_nearest_reverse = len(df) - 1\n",
    "    ts_nearest_reverse = 1.0e30 # big value in the future\n",
    "    res = []\n",
    "    \n",
    "    for i_cur in range(len(df) - 1, -1, -1):\n",
    "        if df.iloc[i_cur][col_throttle_scaled] < 0: \n",
    "            i_nearest_reverse = i_cur\n",
    "            ts_nearest_reverse = df.iloc[i_nearest_reverse][col_image_ts]\n",
    "\n",
    "        if ts_nearest_reverse - df.iloc[i_cur][col_image_ts] < threshold_ns:\n",
    "            res.append(1)\n",
    "        else:\n",
    "            res.append(0)\n",
    "            \n",
    "    df[col_target] = res[::-1]\n",
    "    return df[col_target]\n"
   ]
  },
  {
   "cell_type": "code",
   "execution_count": 87,
   "metadata": {},
   "outputs": [],
   "source": [
    "throttle_idle_threshold = 0.3\n",
    " \n",
    "time_bofore_reverse_ns = 3*1e9\n",
    "for db_name in db_names:\n",
    "    df = dfs_scaled[db_name]\n",
    "    df['reverse_in_the_future'] = find_moments_before_reverse(df, threshold_ns=time_bofore_reverse_ns)\n",
    "    df['idle'] = (\n",
    "        (df[col_throttle_scaled].abs() < throttle_idle_threshold)\n",
    "    ) * 1\n",
    "    \n",
    "    df['goodness'] = ((df['reverse_in_the_future'] == 0) & (df['idle'] == 0)) * 1"
   ]
  },
  {
   "cell_type": "code",
   "execution_count": 88,
   "metadata": {},
   "outputs": [],
   "source": [
    "# df2_s[df2_s['reverse_in_the_future'] == 0]"
   ]
  },
  {
   "cell_type": "code",
   "execution_count": 96,
   "metadata": {},
   "outputs": [
    {
     "data": {
      "text/plain": [
       "4690"
      ]
     },
     "execution_count": 96,
     "metadata": {},
     "output_type": "execute_result"
    }
   ],
   "source": [
    "df = dfs_scaled[db_names[3]]\n",
    "go.Figure(data=[\n",
    "    go.Scatter(x=df.index, y=df[col_steering_scaled], mode='lines', name='steeing_scaled'),\n",
    "    go.Scatter(x=df.index, y=df[col_throttle_scaled], mode='lines', name='throttle_scaled'),\n",
    "    go.Scatter(x=df.index, y=df['reverse_in_the_future'], mode='lines', name='reverse_in_the_future',\n",
    "              line=dict(width=1,dash='dash')),\n",
    "    go.Scatter(x=df.index, y=df['idle'], mode='lines', name='idle',\n",
    "              line=dict(width=1,dash='dash')),\n",
    "    go.Scatter(x=df.index, y=df['goodness'], mode='lines', name='goodness',\n",
    "              line=dict(width=2,dash='dash')),\n",
    "\n",
    "]).show()\n",
    "df.size"
   ]
  },
  {
   "cell_type": "markdown",
   "metadata": {},
   "source": [
    "## Saving filtered data"
   ]
  },
  {
   "cell_type": "code",
   "execution_count": 97,
   "metadata": {},
   "outputs": [
    {
     "name": "stdout",
     "output_type": "stream",
     "text": [
      "0\n",
      "0\n",
      "0\n",
      "0\n"
     ]
    }
   ],
   "source": [
    "for db_name in db_names:\n",
    "    df = dfs_scaled[db_name].copy()\n",
    "    df[col_img] = df[col_img].map(lambda path: str(Path(db_name) / path))\n",
    "    df = df[df['goodness'] != 0]\n",
    "    print(df[df['goodness'] == 0].size)\n",
    "    df.to_csv(base_dir / db_name / f\"{db_name}.filteredcsv\", index=False)"
   ]
  },
  {
   "cell_type": "code",
   "execution_count": 98,
   "metadata": {},
   "outputs": [],
   "source": [
    "# df['image'].iloc[0]"
   ]
  },
  {
   "cell_type": "markdown",
   "metadata": {},
   "source": [
    "# Loading filtered data "
   ]
  },
  {
   "cell_type": "code",
   "execution_count": 111,
   "metadata": {},
   "outputs": [
    {
     "data": {
      "text/plain": [
       "[PosixPath('data/sergem_robocar_20191003_v2/sergem_robocar_20191003_v2.filteredcsv'),\n",
       " PosixPath('data/sergem_robocar_20191009_v2/sergem_robocar_20191009_v2.filteredcsv'),\n",
       " PosixPath('data/sergem_robocar_20191106/sergem_robocar_20191106.filteredcsv'),\n",
       " PosixPath('data/sergem_robocar_20191126_entrance/sergem_robocar_20191126_entrance.filteredcsv')]"
      ]
     },
     "execution_count": 111,
     "metadata": {},
     "output_type": "execute_result"
    }
   ],
   "source": [
    "filtered_csv_paths = sorted(base_dir.glob(\"**/*.filteredcsv\"))\n",
    "filtered_csv_paths"
   ]
  },
  {
   "cell_type": "code",
   "execution_count": 112,
   "metadata": {},
   "outputs": [
    {
     "name": "stdout",
     "output_type": "stream",
     "text": [
      "Loading 4 csvs:\n",
      "data/sergem_robocar_20191003_v2/sergem_robocar_20191003_v2.filteredcsv\n",
      "data/sergem_robocar_20191009_v2/sergem_robocar_20191009_v2.filteredcsv\n",
      "data/sergem_robocar_20191106/sergem_robocar_20191106.filteredcsv\n",
      "data/sergem_robocar_20191126_entrance/sergem_robocar_20191126_entrance.filteredcsv\n",
      "loaded (39117, 10)\n"
     ]
    }
   ],
   "source": [
    "df_filtered = load_and_merge_csvs(filtered_csv_paths)"
   ]
  },
  {
   "cell_type": "code",
   "execution_count": 113,
   "metadata": {},
   "outputs": [
    {
     "data": {
      "text/plain": [
       "391170"
      ]
     },
     "execution_count": 113,
     "metadata": {},
     "output_type": "execute_result"
    }
   ],
   "source": [
    "df_filtered.size"
   ]
  },
  {
   "cell_type": "code",
   "execution_count": 114,
   "metadata": {},
   "outputs": [
    {
     "data": {
      "text/html": [
       "<div>\n",
       "<style scoped>\n",
       "    .dataframe tbody tr th:only-of-type {\n",
       "        vertical-align: middle;\n",
       "    }\n",
       "\n",
       "    .dataframe tbody tr th {\n",
       "        vertical-align: top;\n",
       "    }\n",
       "\n",
       "    .dataframe thead th {\n",
       "        text-align: right;\n",
       "    }\n",
       "</style>\n",
       "<table border=\"1\" class=\"dataframe\">\n",
       "  <thead>\n",
       "    <tr style=\"text-align: right;\">\n",
       "      <th></th>\n",
       "      <th>image_timestamp</th>\n",
       "      <th>steering_timestamp</th>\n",
       "      <th>image</th>\n",
       "      <th>msg.steering</th>\n",
       "      <th>msg.throttle</th>\n",
       "      <th>steering_scaled</th>\n",
       "      <th>throttle_scaled</th>\n",
       "      <th>reverse_in_the_future</th>\n",
       "      <th>idle</th>\n",
       "      <th>goodness</th>\n",
       "    </tr>\n",
       "  </thead>\n",
       "  <tbody>\n",
       "    <tr>\n",
       "      <td>0</td>\n",
       "      <td>1455208587539773695</td>\n",
       "      <td>1455208587542355136</td>\n",
       "      <td>sergem_robocar_20191003_v2/robocar_recording__...</td>\n",
       "      <td>1372</td>\n",
       "      <td>1732</td>\n",
       "      <td>0.000000</td>\n",
       "      <td>0.560</td>\n",
       "      <td>0</td>\n",
       "      <td>0</td>\n",
       "      <td>1</td>\n",
       "    </tr>\n",
       "    <tr>\n",
       "      <td>1</td>\n",
       "      <td>1455208587637106047</td>\n",
       "      <td>1455208587642769706</td>\n",
       "      <td>sergem_robocar_20191003_v2/robocar_recording__...</td>\n",
       "      <td>1372</td>\n",
       "      <td>1736</td>\n",
       "      <td>0.000000</td>\n",
       "      <td>0.568</td>\n",
       "      <td>0</td>\n",
       "      <td>0</td>\n",
       "      <td>1</td>\n",
       "    </tr>\n",
       "    <tr>\n",
       "      <td>2</td>\n",
       "      <td>1455208587738445506</td>\n",
       "      <td>1455208587743968176</td>\n",
       "      <td>sergem_robocar_20191003_v2/robocar_recording__...</td>\n",
       "      <td>1368</td>\n",
       "      <td>1756</td>\n",
       "      <td>-0.017544</td>\n",
       "      <td>0.608</td>\n",
       "      <td>0</td>\n",
       "      <td>0</td>\n",
       "      <td>1</td>\n",
       "    </tr>\n",
       "    <tr>\n",
       "      <td>3</td>\n",
       "      <td>1455208587837093786</td>\n",
       "      <td>1455208587842914892</td>\n",
       "      <td>sergem_robocar_20191003_v2/robocar_recording__...</td>\n",
       "      <td>1348</td>\n",
       "      <td>1824</td>\n",
       "      <td>-0.105263</td>\n",
       "      <td>0.744</td>\n",
       "      <td>0</td>\n",
       "      <td>0</td>\n",
       "      <td>1</td>\n",
       "    </tr>\n",
       "    <tr>\n",
       "      <td>4</td>\n",
       "      <td>1455208587937189035</td>\n",
       "      <td>1455208587944909971</td>\n",
       "      <td>sergem_robocar_20191003_v2/robocar_recording__...</td>\n",
       "      <td>1336</td>\n",
       "      <td>1828</td>\n",
       "      <td>-0.157895</td>\n",
       "      <td>0.752</td>\n",
       "      <td>0</td>\n",
       "      <td>0</td>\n",
       "      <td>1</td>\n",
       "    </tr>\n",
       "  </tbody>\n",
       "</table>\n",
       "</div>"
      ],
      "text/plain": [
       "       image_timestamp   steering_timestamp  \\\n",
       "0  1455208587539773695  1455208587542355136   \n",
       "1  1455208587637106047  1455208587642769706   \n",
       "2  1455208587738445506  1455208587743968176   \n",
       "3  1455208587837093786  1455208587842914892   \n",
       "4  1455208587937189035  1455208587944909971   \n",
       "\n",
       "                                               image  msg.steering  \\\n",
       "0  sergem_robocar_20191003_v2/robocar_recording__...          1372   \n",
       "1  sergem_robocar_20191003_v2/robocar_recording__...          1372   \n",
       "2  sergem_robocar_20191003_v2/robocar_recording__...          1368   \n",
       "3  sergem_robocar_20191003_v2/robocar_recording__...          1348   \n",
       "4  sergem_robocar_20191003_v2/robocar_recording__...          1336   \n",
       "\n",
       "   msg.throttle  steering_scaled  throttle_scaled  reverse_in_the_future  \\\n",
       "0          1732         0.000000            0.560                      0   \n",
       "1          1736         0.000000            0.568                      0   \n",
       "2          1756        -0.017544            0.608                      0   \n",
       "3          1824        -0.105263            0.744                      0   \n",
       "4          1828        -0.157895            0.752                      0   \n",
       "\n",
       "   idle  goodness  \n",
       "0     0         1  \n",
       "1     0         1  \n",
       "2     0         1  \n",
       "3     0         1  \n",
       "4     0         1  "
      ]
     },
     "execution_count": 114,
     "metadata": {},
     "output_type": "execute_result"
    }
   ],
   "source": [
    "df_filtered.head()"
   ]
  },
  {
   "cell_type": "markdown",
   "metadata": {},
   "source": [
    "## split to training and validataion by indexes\n",
    "It's just a proxy for time"
   ]
  },
  {
   "cell_type": "code",
   "execution_count": 115,
   "metadata": {},
   "outputs": [],
   "source": [
    "is_valid = df_filtered.index % 1000 > 800\n",
    "df_filtered['validation'] = is_valid * 1\n"
   ]
  },
  {
   "cell_type": "code",
   "execution_count": 116,
   "metadata": {},
   "outputs": [],
   "source": [
    "go.Figure(data=[\n",
    "    go.Scatter(x=df_filtered.index, y=df_filtered[col_steering_scaled], mode='lines', name='steeing_scaled'),\n",
    "    go.Scatter(x=df_filtered.index, y=df_filtered[col_throttle_scaled], mode='lines', name='throttle_scaled'),\n",
    "    go.Scatter(x=df_filtered.index, y=df_filtered['validation'], mode='lines', name='validation'),\n",
    "]).show()"
   ]
  },
  {
   "cell_type": "code",
   "execution_count": 117,
   "metadata": {},
   "outputs": [
    {
     "data": {
      "text/plain": [
       "((31356, 11), (7761, 11))"
      ]
     },
     "execution_count": 117,
     "metadata": {},
     "output_type": "execute_result"
    }
   ],
   "source": [
    "# shuffle to avoid issue: https://github.com/keras-team/keras-preprocessing/issues/205\n",
    "df_train = df_filtered[df_filtered['validation'] == 0].sample(frac=1) \n",
    "df_val = df_filtered[df_filtered['validation'] == 1]\n",
    "df_train.shape, df_val.shape"
   ]
  },
  {
   "cell_type": "markdown",
   "metadata": {},
   "source": [
    "# Training"
   ]
  },
  {
   "cell_type": "code",
   "execution_count": 118,
   "metadata": {},
   "outputs": [
    {
     "name": "stdout",
     "output_type": "stream",
     "text": [
      "Found 31356 validated image filenames.\n",
      "Found 7761 validated image filenames.\n"
     ]
    }
   ],
   "source": [
    "datagen=ImageDataGenerator(rescale=1./255)\n",
    "\n",
    "def create_generator(df):\n",
    "    return datagen.flow_from_dataframe(dataframe=df, directory=str(base_dir),\n",
    "        x_col=col_img,\n",
    "        y_col=[col_steering_scaled, col_throttle_scaled],\n",
    "        class_mode=\"multi_output\",\n",
    "        target_size=(IMAGE_INPUT_HEIGHT, IMAGE_INPUT_WIDTH),\n",
    "        batch_size=32,\n",
    "        shuffle=True,\n",
    "    )\n",
    "train_generator=create_generator(df_train)\n",
    "val_generator=create_generator(df_val)\n"
   ]
  },
  {
   "cell_type": "code",
   "execution_count": 119,
   "metadata": {},
   "outputs": [],
   "source": [
    "def visualize(imgs, y=None, pred=None):\n",
    "    def format_(arr, idx):\n",
    "        if arr is None:\n",
    "            return \"-\"\n",
    "        return ' '.join(['{:.3f}'.format(a.ravel()[idx]) for a in arr])\n",
    "        \n",
    "    _, axes = plt.subplots(8, 4, squeeze=False, figsize=(15,20), sharex=True, sharey=True, gridspec_kw={'hspace': 0, 'wspace': 0})\n",
    "    for i, ax in enumerate(axes.flat):\n",
    "        ax.imshow(imgs[i])\n",
    "        \n",
    "        text = \"y {} \\npred {}\".format(format_(y, i), format_(pred, i))\n",
    "        ax.text(20, 20, text, color='cyan')"
   ]
  },
  {
   "cell_type": "code",
   "execution_count": 120,
   "metadata": {},
   "outputs": [],
   "source": [
    "np.set_printoptions(precision=3)"
   ]
  },
  {
   "cell_type": "code",
   "execution_count": 4,
   "metadata": {},
   "outputs": [],
   "source": [
    "dbg_imgs, dbg_y = val_generator.next()\n",
    "visualize(dbg_imgs, dbg_y)"
   ]
  },
  {
   "cell_type": "code",
   "execution_count": 124,
   "metadata": {},
   "outputs": [
    {
     "data": {
      "text/plain": [
       "[array([ 1.   , -0.982,  0.086, -0.018,  0.   , -1.   , -0.018, -0.018,\n",
       "        -0.526, -0.351,  0.981,  1.   , -0.255, -0.157,  0.981, -0.882,\n",
       "         0.   ,  0.517,  0.981, -0.316,  0.094, -1.   ,  0.509, -0.98 ,\n",
       "         0.981,  0.981, -0.193,  1.   , -0.193,  0.642,  0.981,  0.981]),\n",
       " array([0.912, 0.728, 0.768, 0.4  , 0.992, 0.984, 0.968, 0.992, 0.904,\n",
       "        1.   , 0.776, 0.944, 0.952, 0.936, 0.92 , 0.855, 0.888, 1.   ,\n",
       "        1.   , 0.888, 0.984, 0.824, 0.912, 0.848, 0.656, 0.952, 0.992,\n",
       "        0.96 , 0.912, 1.   , 0.8  , 0.856])]"
      ]
     },
     "execution_count": 124,
     "metadata": {},
     "output_type": "execute_result"
    }
   ],
   "source": [
    "dbg_y"
   ]
  },
  {
   "cell_type": "code",
   "execution_count": 142,
   "metadata": {},
   "outputs": [],
   "source": [
    "def default_linear():\n",
    "    img_in = Input(shape=(120, 160, 3), name='img_in')\n",
    "    x = img_in\n",
    "\n",
    "    # Convolution2D class name is an alias for Conv2D\n",
    "    x = Convolution2D(filters=24, kernel_size=(5, 5), strides=(2, 2), activation='relu')(x)\n",
    "    x = Convolution2D(filters=32, kernel_size=(5, 5), strides=(2, 2), activation='relu')(x)\n",
    "    x = Convolution2D(filters=64, kernel_size=(5, 5), strides=(2, 2), activation='relu')(x)\n",
    "    x = Convolution2D(filters=64, kernel_size=(3, 3), strides=(2, 2), activation='relu')(x)\n",
    "    x = Convolution2D(filters=64, kernel_size=(3, 3), strides=(1, 1), activation='relu')(x)\n",
    "\n",
    "    x = Flatten(name='flattened')(x)\n",
    "    x = Dense(units=100, activation='linear')(x)\n",
    "    x = Dropout(rate=.1)(x)\n",
    "    x = Dense(units=50, activation='linear')(x)\n",
    "    x = Dropout(rate=.1)(x)\n",
    "    # categorical output of the angle\n",
    "    angle_out = Dense(units=1, activation='linear', name='angle_out')(x)\n",
    "\n",
    "    # continous output of throttle\n",
    "    throttle_out = Dense(units=1, activation='linear', name='throttle_out')(x)\n",
    "\n",
    "    model = Model(inputs=[img_in], outputs=[\n",
    "        angle_out, \n",
    "        throttle_out\n",
    "    ])\n",
    "\n",
    "    model.compile(optimizer='adam',\n",
    "                  loss={\n",
    "                      'angle_out': 'mean_squared_error',\n",
    "                      'throttle_out': 'mean_squared_error'\n",
    "                  },\n",
    "                  loss_weights={\n",
    "                      'angle_out': 0.95, \n",
    "                      'throttle_out': .05\n",
    "                  }\n",
    "                 )\n",
    "\n",
    "    return model"
   ]
  },
  {
   "cell_type": "code",
   "execution_count": 143,
   "metadata": {},
   "outputs": [],
   "source": [
    "model = default_linear()"
   ]
  },
  {
   "cell_type": "code",
   "execution_count": 144,
   "metadata": {},
   "outputs": [],
   "source": [
    "use_early_stop = True\n",
    "epochs = 12\n",
    "saved_model_path = Path(\"./models/linear_20191126_w_entrance.model\")\n",
    "verbose = True\n",
    "min_delta=.0005\n",
    "patience=5"
   ]
  },
  {
   "cell_type": "code",
   "execution_count": 145,
   "metadata": {},
   "outputs": [
    {
     "data": {
      "text/plain": [
       "(980, 31356, 32, 1280)"
      ]
     },
     "execution_count": 145,
     "metadata": {},
     "output_type": "execute_result"
    }
   ],
   "source": [
    "len(train_generator), train_generator.n, train_generator.batch_size, 40*32"
   ]
  },
  {
   "cell_type": "code",
   "execution_count": 146,
   "metadata": {},
   "outputs": [],
   "source": [
    "saved_model_path.parent.mkdir(exist_ok=True, parents=True)"
   ]
  },
  {
   "cell_type": "code",
   "execution_count": 147,
   "metadata": {
    "scrolled": false
   },
   "outputs": [
    {
     "name": "stdout",
     "output_type": "stream",
     "text": [
      "Epoch 1/12\n",
      "979/980 [============================>.] - ETA: 0s - loss: 0.1760 - angle_out_loss: 0.1834 - throttle_out_loss: 0.0343\n",
      "Epoch 00001: val_loss improved from inf to 0.10760, saving model to models/linear_20191126_w_entrance.model\n",
      "980/980 [==============================] - 149s 152ms/step - loss: 0.1760 - angle_out_loss: 0.1835 - throttle_out_loss: 0.0343 - val_loss: 0.1076 - val_angle_out_loss: 0.1126 - val_throttle_out_loss: 0.0121\n",
      "Epoch 2/12\n",
      "979/980 [============================>.] - ETA: 0s - loss: 0.0988 - angle_out_loss: 0.1030 - throttle_out_loss: 0.0188\n",
      "Epoch 00002: val_loss improved from 0.10760 to 0.10000, saving model to models/linear_20191126_w_entrance.model\n",
      "980/980 [==============================] - 147s 150ms/step - loss: 0.0988 - angle_out_loss: 0.1030 - throttle_out_loss: 0.0188 - val_loss: 0.1000 - val_angle_out_loss: 0.1047 - val_throttle_out_loss: 0.0116\n",
      "Epoch 3/12\n",
      "979/980 [============================>.] - ETA: 0s - loss: 0.0843 - angle_out_loss: 0.0878 - throttle_out_loss: 0.0167\n",
      "Epoch 00003: val_loss improved from 0.10000 to 0.09920, saving model to models/linear_20191126_w_entrance.model\n",
      "980/980 [==============================] - 147s 150ms/step - loss: 0.0842 - angle_out_loss: 0.0878 - throttle_out_loss: 0.0167 - val_loss: 0.0992 - val_angle_out_loss: 0.1038 - val_throttle_out_loss: 0.0113\n",
      "Epoch 4/12\n",
      "979/980 [============================>.] - ETA: 0s - loss: 0.0771 - angle_out_loss: 0.0804 - throttle_out_loss: 0.0149\n",
      "Epoch 00004: val_loss improved from 0.09920 to 0.09425, saving model to models/linear_20191126_w_entrance.model\n",
      "980/980 [==============================] - 149s 152ms/step - loss: 0.0771 - angle_out_loss: 0.0804 - throttle_out_loss: 0.0149 - val_loss: 0.0942 - val_angle_out_loss: 0.0986 - val_throttle_out_loss: 0.0117\n",
      "Epoch 5/12\n",
      "979/980 [============================>.] - ETA: 0s - loss: 0.0705 - angle_out_loss: 0.0734 - throttle_out_loss: 0.0138\n",
      "Epoch 00005: val_loss did not improve from 0.09425\n",
      "980/980 [==============================] - 152s 155ms/step - loss: 0.0705 - angle_out_loss: 0.0734 - throttle_out_loss: 0.0138 - val_loss: 0.0983 - val_angle_out_loss: 0.1027 - val_throttle_out_loss: 0.0130\n",
      "Epoch 6/12\n",
      "979/980 [============================>.] - ETA: 0s - loss: 0.0647 - angle_out_loss: 0.0675 - throttle_out_loss: 0.0130\n",
      "Epoch 00006: val_loss did not improve from 0.09425\n",
      "980/980 [==============================] - 156s 159ms/step - loss: 0.0648 - angle_out_loss: 0.0675 - throttle_out_loss: 0.0130 - val_loss: 0.1016 - val_angle_out_loss: 0.1064 - val_throttle_out_loss: 0.0112\n",
      "Epoch 7/12\n",
      "979/980 [============================>.] - ETA: 0s - loss: 0.0596 - angle_out_loss: 0.0621 - throttle_out_loss: 0.0124\n",
      "Epoch 00007: val_loss improved from 0.09425 to 0.09245, saving model to models/linear_20191126_w_entrance.model\n",
      "980/980 [==============================] - 148s 151ms/step - loss: 0.0596 - angle_out_loss: 0.0621 - throttle_out_loss: 0.0124 - val_loss: 0.0925 - val_angle_out_loss: 0.0967 - val_throttle_out_loss: 0.0120\n",
      "Epoch 8/12\n",
      "979/980 [============================>.] - ETA: 0s - loss: 0.0546 - angle_out_loss: 0.0569 - throttle_out_loss: 0.0121\n",
      "Epoch 00008: val_loss did not improve from 0.09245\n",
      "980/980 [==============================] - 148s 151ms/step - loss: 0.0546 - angle_out_loss: 0.0569 - throttle_out_loss: 0.0121 - val_loss: 0.0954 - val_angle_out_loss: 0.0999 - val_throttle_out_loss: 0.0112\n",
      "Epoch 9/12\n",
      "979/980 [============================>.] - ETA: 0s - loss: 0.0497 - angle_out_loss: 0.0517 - throttle_out_loss: 0.0120\n",
      "Epoch 00009: val_loss did not improve from 0.09245\n",
      "980/980 [==============================] - 148s 151ms/step - loss: 0.0497 - angle_out_loss: 0.0517 - throttle_out_loss: 0.0120 - val_loss: 0.0935 - val_angle_out_loss: 0.0978 - val_throttle_out_loss: 0.0113\n",
      "Epoch 10/12\n",
      "979/980 [============================>.] - ETA: 0s - loss: 0.0466 - angle_out_loss: 0.0484 - throttle_out_loss: 0.0120\n",
      "Epoch 00010: val_loss did not improve from 0.09245\n",
      "980/980 [==============================] - 148s 151ms/step - loss: 0.0466 - angle_out_loss: 0.0484 - throttle_out_loss: 0.0120 - val_loss: 0.0934 - val_angle_out_loss: 0.0978 - val_throttle_out_loss: 0.0109\n",
      "Epoch 11/12\n",
      "979/980 [============================>.] - ETA: 0s - loss: 0.0433 - angle_out_loss: 0.0450 - throttle_out_loss: 0.0120\n",
      "Epoch 00011: val_loss did not improve from 0.09245\n",
      "980/980 [==============================] - 162s 165ms/step - loss: 0.0433 - angle_out_loss: 0.0450 - throttle_out_loss: 0.0120 - val_loss: 0.0953 - val_angle_out_loss: 0.0998 - val_throttle_out_loss: 0.0114\n",
      "Epoch 12/12\n",
      "979/980 [============================>.] - ETA: 0s - loss: 0.0402 - angle_out_loss: 0.0417 - throttle_out_loss: 0.0120\n",
      "Epoch 00012: val_loss did not improve from 0.09245\n",
      "980/980 [==============================] - 158s 161ms/step - loss: 0.0402 - angle_out_loss: 0.0417 - throttle_out_loss: 0.0120 - val_loss: 0.0961 - val_angle_out_loss: 0.1006 - val_throttle_out_loss: 0.0112\n",
      "Epoch 00012: early stopping\n"
     ]
    }
   ],
   "source": [
    "save_best = ModelCheckpoint(str(saved_model_path),\n",
    "                            monitor='val_loss',\n",
    "                            verbose=verbose,\n",
    "                            save_best_only=True,\n",
    "                            mode='min')\n",
    "\n",
    "# stop training if the validation error stops improving.\n",
    "early_stop = EarlyStopping(monitor='val_loss',\n",
    "                           min_delta=min_delta,\n",
    "                           patience=patience,\n",
    "                           verbose=verbose,\n",
    "                           mode='auto')\n",
    "\n",
    "tb = TensorBoard()\n",
    "\n",
    "callbacks_list = [save_best, tb]\n",
    "\n",
    "if use_early_stop:\n",
    "    callbacks_list.append(early_stop)\n",
    "\n",
    "hist = model.fit_generator(\n",
    "    train_generator,\n",
    "    epochs=epochs,\n",
    "    verbose=1,\n",
    "    validation_data=val_generator,\n",
    "    callbacks=callbacks_list)"
   ]
  },
  {
   "cell_type": "code",
   "execution_count": null,
   "metadata": {},
   "outputs": [],
   "source": []
  },
  {
   "cell_type": "code",
   "execution_count": 1,
   "metadata": {},
   "outputs": [],
   "source": [
    "vis_imgs, vis_y = val_generator.next()\n",
    "vis_pred = model.predict(vis_imgs)\n",
    "visualize(vis_imgs, vis_y, vis_pred)"
   ]
  },
  {
   "cell_type": "code",
   "execution_count": 2,
   "metadata": {},
   "outputs": [],
   "source": [
    "# steering\n",
    "plt.plot(vis_y[0], label=\"manual\")\n",
    "plt.plot(vis_pred[0], label=\"prediction\")\n",
    "plt.legend()"
   ]
  },
  {
   "cell_type": "code",
   "execution_count": 3,
   "metadata": {},
   "outputs": [],
   "source": [
    "# Throttle\n",
    "plt.plot(vis_y[1])\n",
    "plt.plot(vis_pred[1])"
   ]
  },
  {
   "cell_type": "code",
   "execution_count": null,
   "metadata": {},
   "outputs": [],
   "source": []
  }
 ],
 "metadata": {
  "kernelspec": {
   "display_name": "Python 3",
   "language": "python",
   "name": "python3"
  },
  "language_info": {
   "codemirror_mode": {
    "name": "ipython",
    "version": 3
   },
   "file_extension": ".py",
   "mimetype": "text/x-python",
   "name": "python",
   "nbconvert_exporter": "python",
   "pygments_lexer": "ipython3",
   "version": "3.6.8"
  }
 },
 "nbformat": 4,
 "nbformat_minor": 2
}
